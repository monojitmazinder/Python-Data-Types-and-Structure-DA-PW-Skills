{
  "nbformat": 4,
  "nbformat_minor": 0,
  "metadata": {
    "colab": {
      "provenance": []
    },
    "kernelspec": {
      "name": "python3",
      "display_name": "Python 3"
    },
    "language_info": {
      "name": "python"
    }
  },
  "cells": [
    {
      "cell_type": "code",
      "execution_count": null,
      "metadata": {
        "id": "trhcV9iUUouf"
      },
      "outputs": [],
      "source": []
    },
    {
      "cell_type": "markdown",
      "source": [
        "## **PW Skills Assignment-2:Data Analytitcs: Python-Data Types and Structure**"
      ],
      "metadata": {
        "id": "zooi4petVNPA"
      }
    },
    {
      "cell_type": "markdown",
      "source": [
        "**Python-Data Types and Structure Ouestions**"
      ],
      "metadata": {
        "id": "B95up0DEWnOC"
      }
    },
    {
      "cell_type": "markdown",
      "source": [
        "1. What are data structures, and why are they important?\n",
        "\n",
        "Answer: Data structures are ways to organize and store data efficiently. In Python, common data structures include lists, tuples, dictionaries, and sets. They are important because they help manage large amounts of data, enable quick access and modification, and improve the efficiency of algorithms. Choosing the right data structure optimizes performance and makes code easier to read and maintain."
      ],
      "metadata": {
        "id": "itO1JPycW2NK"
      }
    },
    {
      "cell_type": "markdown",
      "source": [
        "2.  Explain the difference between mutable and immutable data types with examples.\n",
        "\n",
        "Answer: Mutable data types can be changed after creation, while immutable ones cannot.\n",
        "\n",
        "Examples:\n",
        "\n",
        "Mutable:\n",
        "\n",
        "List: lst = [1, 2, 3] → lst[0] = 10 (modifies the list)\n",
        "\n",
        "Dictionary: d = {'a': 1} → d['a'] = 2 (value can be changed)\n",
        "\n",
        "Immutable:\n",
        "\n",
        "Tuple: t = (1, 2, 3) → t[0] = 10 (throws an error)\n",
        "\n",
        "String: s = \"hello\" → s[1] = 'H' (throws an error)\n",
        "\n",
        "Mutability impacts how data behaves when passed to functions or copied."
      ],
      "metadata": {
        "id": "GxLM2kAlYC4o"
      }
    },
    {
      "cell_type": "markdown",
      "source": [
        "3. What are the main differences between lists and tuples in Python?\n",
        "\n",
        "Answer: The main differences between lists and tuples in Python are:\n",
        "\n",
        "1. **Mutability**: Lists are mutable (can be modified), while tuples are immutable (cannot be changed).\n",
        "\n",
        "2. **Syntax**: Lists use square brackets [ ], while tuples use parentheses ( ).\n",
        "\n",
        "3. **Performance**: Tuples are faster and use less memory due to immutability.\n",
        "\n",
        "4. **Usage**: Lists are suitable for dynamic data, whereas tuples are ideal for fixed data.\n",
        "\n",
        "5. **Methods**: Lists have more methods (e.g., append( ), remove( )), while tuples have fewer.\n",
        "\n",
        "Examples:\n",
        "\n",
        "lst = [1, 2, 3]      # Mutable  \n",
        "tpl = (1, 2, 3)      # Immutable  "
      ],
      "metadata": {
        "id": "aIn3KbcYackC"
      }
    },
    {
      "cell_type": "markdown",
      "source": [
        "4. Describe how dictionaries store data.\n",
        "\n",
        "Answer: Dictionaries in Python store data as key-value pairs using a hash table. Each key is hashed into a unique integer, which determines the location of the corresponding value in memory. This allows for fast lookups, insertions, and deletions with an average time complexity of O(1).\n",
        "\n",
        "Example:\n",
        "\n",
        "dict = {\"name\": \"Manojit\", \"age\": 35}  \n",
        "print(dict[\"name\"])  # Output: Manojit\n",
        "\n",
        "* Keys must be immutable (e.g., strings, numbers, tuples), while values can be of any type."
      ],
      "metadata": {
        "id": "WoO9w21hbdsu"
      }
    },
    {
      "cell_type": "markdown",
      "source": [
        "5. Why might you use a set instead of a list in Python?\n",
        "\n",
        "Answer: The use a set instead of a list in Python when:\n",
        "\n",
        "1. **Uniqueness is required**: Sets automatically remove duplicate values.\n",
        "\n",
        "2. **Faster lookups**: Sets offer O(1) average time complexity for membership checks, while lists have O(n).\n",
        "\n",
        "3. **Set operations**: Sets support efficient mathematical operations like union, intersection, and difference.\n",
        "\n",
        "Examples:\n",
        "\n",
        "lst = [1, 2, 2, 3]  \n",
        "s = {1, 2, 2, 3}  \n",
        "print(s)  # Output: {1, 2, 3}\n",
        "\n",
        "* Sets are ideal for handling distinct items and quick membership tests."
      ],
      "metadata": {
        "id": "-QCkTQdFcjzI"
      }
    },
    {
      "cell_type": "markdown",
      "source": [
        "6. What is a string in Python, and how is it different from a list?\n",
        "\n",
        "Answer: A string in Python is a sequence of characters enclosed in quotes (' ' or \" \"), while a list is a collection of items (which can be of different types) enclosed in square brackets [ ].\n",
        "\n",
        "** **Key Differences**:\n",
        "\n",
        "1. **Mutability**: Strings are immutable (cannot be changed), while lists are mutable (can be modified).\n",
        "\n",
        "2. **Data type**: Strings store characters only, whereas lists can hold mixed data types.\n",
        "\n",
        "3. **Syntax**:\n",
        "str = \"Hello\"       # String  \n",
        "lst = ['H', 'e', 'l', 'l', 'o']  # List\n",
        "\n",
        "4.** Methods**: Lists have more modification methods (e.g., append( )), while strings have formatting methods (e.g., upper( ))."
      ],
      "metadata": {
        "id": "vZ1L5fQRdfNA"
      }
    },
    {
      "cell_type": "markdown",
      "source": [
        "7. How do tuples ensure data integrity in Python?\n",
        "\n",
        "Answer: Tuples ensure data integrity in Python through their immutability. Once a tuple is created, its content cannot be modified, preventing accidental changes. This makes tuples ideal for storing constant or fixed data. Their immutability also ensures that data remains consistent and reliable throughout the program.\n",
        "\n",
        "Example:\n",
        "\n",
        "tpl = (10.5, 20.3)  # Immutable  \n",
        "tpl[0] = 15  # Error: tuples cannot be changed"
      ],
      "metadata": {
        "id": "i4rSjB53emz9"
      }
    },
    {
      "cell_type": "markdown",
      "source": [
        "8. What is a hash table, and how does it relate to dictionaries in Python?\n",
        "\n",
        "Answer: A hash table is a data structure that stores data in key-value pairs. It uses a hash function to convert keys into unique hash codes, which determine the location of values in memory. This enables fast data retrieval with an average time complexity of O(1).\n",
        "\n",
        "In Python, dictionaries are implemented using hash tables. The keys are hashed, and the values are stored at the corresponding memory locations. This makes dictionary operations like lookup, insertion, and deletion very efficient.\n",
        "\n",
        "Example:\n",
        "\n",
        "dict = {\"name\": \"Manojit\", \"age\": 35} # Dictionary using a hash table\n",
        "\n",
        "print(dict[\"name\"]) # O(1) lookup"
      ],
      "metadata": {
        "id": "pzkPIvTSfQgY"
      }
    },
    {
      "cell_type": "markdown",
      "source": [
        "9. Can lists contain different data types in Python?\n",
        "\n",
        "Answer: Yes, lists in Python can contain different data types. Lists are flexible and can hold a mix of integers, floats, strings, booleans, objects, or even other lists.\n",
        "\n",
        "Example:\n",
        "\n",
        "mixed_list = [42, \"hello\", 3.14, True, [1, 2, 3]]  \n",
        "print(mixed_list)  # Output: [42, 'hello', 3.14, True, [1, 2, 3]]\n",
        "\n",
        "* This flexibility makes lists ideal for storing diverse data in a single collection."
      ],
      "metadata": {
        "id": "8Q20gzwzf_qe"
      }
    },
    {
      "cell_type": "markdown",
      "source": [
        "10. Explain why strings are immutable in Python.\n",
        "\n",
        "Answer: Strings are immutable in Python to ensure data integrity, security, and efficiency. Once a string is created, its content cannot be changed.\n",
        "\n",
        "* **Reasons for immutability**:\n",
        "\n",
        "1. **Memory efficiency**: Python uses string interning, storing only one copy of identical strings to save memory.\n",
        "\n",
        "2. **Security**: Immutability prevents accidental modification of sensitive data (e.g., passwords).\n",
        "\n",
        "3. **Hashability**: Immutable objects like strings can be used as dictionary keys and set elements.\n",
        "\n",
        "4. **Thread safety**: Immutable objects are safe to use in multi-threaded programs."
      ],
      "metadata": {
        "id": "0sHDdWdygovm"
      }
    },
    {
      "cell_type": "markdown",
      "source": [
        "11. What advantages do dictionaries offer over lists for certain tasks?\n",
        "\n",
        "Answer: Dictionaries offer several advantages over lists for certain tasks:\n",
        "\n",
        "1.** Faster lookups**: Dictionaries provide O(1) average-time complexity for lookups, while lists take O(n).\n",
        "\n",
        "2. **Key-value pairs**: Dictionaries store data in key-value pairs, making it easier to map relationships.\n",
        "\n",
        "3. **Uniqueness**: Dictionary keys must be unique, preventing duplicate keys.\n",
        "\n",
        "4. **Efficient data retrieval**: Ideal for data indexing and fast retrieval based on keys.\n",
        "\n",
        "5. **Dynamic size**: Dictionaries dynamically expand as new key-value pairs are added."
      ],
      "metadata": {
        "id": "AgiG8YlwhY8P"
      }
    },
    {
      "cell_type": "markdown",
      "source": [
        "12. Describe a scenario where using a tuple would be preferable over a list.\n",
        "\n",
        "Answer: Using a tuple is preferable over a list when you want to store fixed, immutable data that should not be accidentally modified.\n",
        "\n",
        "* **Scenario:** Storing geographic coordinates (latitude, longitude) is ideal for a tuple, as these values are constant.\n",
        "\n",
        "example: coordinates = (27.1751, 78.0421)  # Immutable tuple\n",
        "\n",
        "* **Tuple over list**:\n",
        "\n",
        "1. Data integrity: Prevents accidental changes.\n",
        "\n",
        "2. Efficiency: Tuples use less memory and are faster.\n",
        "\n",
        "3. Hashability: Tuples can be used as dictionary keys or set elements, whereas lists cannot."
      ],
      "metadata": {
        "id": "2Sg3MxqJiVvU"
      }
    },
    {
      "cell_type": "markdown",
      "source": [
        "13. How do sets handle duplicate values in Python?\n",
        "\n",
        "Answer: In Python, sets automatically remove duplicate values. When you add elements to a set, only unique values are stored. If duplicates are added, they are ignored.\n",
        "\n",
        "Exaple:\n",
        "\n",
        "numbers = {1, 2, 2, 3, 4, 4}  \n",
        "print(numbers)  # Output: {1, 2, 3, 4}\n",
        "\n",
        "* Sets use a hash table to store elements, ensuring that only one copy of each value is kept. This makes sets ideal for removing duplicates and performing membership tests efficiently."
      ],
      "metadata": {
        "id": "Jmeff3ATjHtD"
      }
    },
    {
      "cell_type": "markdown",
      "source": [
        "14. How does the “in” keyword work differently for lists and dictionaries?\n",
        "\n",
        "Answer: The in keyword works differently for lists and dictionaries in Python:\n",
        "\n",
        "* **For lists**: It checks for the presence of a value.\n",
        "\n",
        "Example:\n",
        "\n",
        "lst = [1, 2, 3, 4]  \n",
        "print(2 in lst)  # True (checks value)\n",
        "\n",
        "* **For dictionaries**: It checks for the presence of a key, not the value.\n",
        "\n",
        "Example:\n",
        "\n",
        "dict = {\"name\": \"Uday\", \"age\": 25}  \n",
        "print(\"name\" in dict)  # True (checks key)  \n",
        "print(25 in dict)      # False (ignores value)  \n",
        "\n",
        "* **Key difference**:\n",
        "\n",
        "1. \"in\" checks for values in lists.\n",
        "\n",
        "2. \"in\" checks for keys in dictionaries."
      ],
      "metadata": {
        "id": "6KDBBzFKkDjx"
      }
    },
    {
      "cell_type": "markdown",
      "source": [
        "15. Can you modify the elements of a tuple? Explain why or why not.\n",
        "\n",
        "Answer: No, you cannot modify the elements of a tuple in Python because tuples are immutable. Once created, their elements cannot be changed, added, or removed.\n",
        "\n",
        "Why Not?\n",
        "\n",
        "1. **Data integrity**: Prevents accidental modifications.\n",
        "\n",
        "2. **Efficiency**: Tuples use less memory and offer faster performance.\n",
        "\n",
        "3. **Hashability**: Tuples can be used as dictionary keys or set elements, unlike mutable types."
      ],
      "metadata": {
        "id": "ZMHyA9XRl6xp"
      }
    },
    {
      "cell_type": "markdown",
      "source": [
        "16.What is a nested dictionary, and give an example of its use case?\n",
        "\n",
        "Answer: A nested dictionary is a dictionary that contains one or more dictionaries as its values. It allows you to store and organize complex, hierarchical data.\n",
        "\n",
        "Example:\n",
        "\n",
        "students = {  \n",
        "    'Puja': {'age': 28, 'grade': 'A'},  \n",
        "    'Uday': {'age': 30, 'grade': 'B'}  \n",
        "}  \n",
        "print(students['Alice']['grade'])  # Output: A\n",
        "\n",
        "# **Use case:**\n",
        "\n",
        "Nested dictionaries are useful for storing structured data like:\n",
        "\n",
        "* User profiles with multiple attributes.\n",
        "\n",
        "* Configuration settings with multiple layers."
      ],
      "metadata": {
        "id": "5R7M3xRwojdB"
      }
    },
    {
      "cell_type": "markdown",
      "source": [
        "17. Describe the time complexity of accessing elements in a dictionary.\n",
        "\n",
        "Answer: Accessing elements in a dictionary in Python has an average time complexity of O(1) (constant time). This is because dictionaries use a hash table to store key-value pairs, allowing for fast lookups.\n",
        "\n",
        "* Worst-case scenario:\n",
        "\n",
        "In rare cases (due to hash collisions), the time complexity can be O(n), where n is the number of elements. However, Python's hash table implementation minimizes collisions, keeping lookups efficient."
      ],
      "metadata": {
        "id": "LM7OImGjpcvj"
      }
    },
    {
      "cell_type": "markdown",
      "source": [
        "18. In what situations are lists preferred over dictionaries?\n",
        "\n",
        "Answer: Lists are preferred over dictionaries in Python when:\n",
        "\n",
        "1. **Order matters**: Lists preserve insertion order (since Python 3.7+), making them ideal for sequential data.\n",
        "\n",
        "2. **Index-based access**: Lists allow fast access by index (O(1)), whereas dictionaries use keys.\n",
        "\n",
        "3. **Small datasets**: Lists are more memory-efficient for small collections.\n",
        "\n",
        "4. **Iteration simplicity**: Iterating over lists is simpler and often faster for small datasets.\n",
        "\n",
        "5. **Duplicate values**: Lists allow duplicates, while dictionaries require unique keys."
      ],
      "metadata": {
        "id": "A6aHSUQyp3-C"
      }
    },
    {
      "cell_type": "markdown",
      "source": [
        "19. Why are dictionaries considered unordered, and how does that affect data retrieval?\n",
        "\n",
        "Answer: Dictionaries were unordered before Python, meaning they didn’t maintain the insertion order of key-value pairs. In Python, dictionaries preserve insertion order, but they are still technically implemented using hash tables, making the order a side effect, not a guarantee.\n",
        "\n",
        "**Effect on retrieval**:\n",
        "\n",
        "Data retrieval is based on key hashing, not order, ensuring O(1) lookup time, regardless of insertion sequence."
      ],
      "metadata": {
        "id": "Zgyg_9daqmMi"
      }
    },
    {
      "cell_type": "markdown",
      "source": [
        "20. Explain the difference between a list and a dictionary in terms of data retrieval.\n",
        "\n",
        "Answer: The key difference in data retrieval between a list and a dictionary is:\n",
        "\n",
        "* **List**: Uses index-based retrieval with O(1) time complexity.\n",
        "* **Dictionary**: Uses key-based retrieval with O(1) average time complexity.\n",
        "* **Key difference**: Lists use indexes, while dictionaries use keys for data access."
      ],
      "metadata": {
        "id": "yfliv0Kora_a"
      }
    },
    {
      "cell_type": "markdown",
      "source": [
        "# **Practical Questions**"
      ],
      "metadata": {
        "id": "A4luYwEcsL4F"
      }
    },
    {
      "cell_type": "code",
      "source": [
        "# 1.Write a code to create a string with your name and print it.\n",
        "\n",
        "my_name = \"Manojit Mazinder Barua\"\n",
        "print(my_name)"
      ],
      "metadata": {
        "colab": {
          "base_uri": "https://localhost:8080/"
        },
        "id": "VGXpnIvMsUhY",
        "outputId": "0b903b50-15ca-4ec4-9ac0-bb7906ff8d39"
      },
      "execution_count": 1,
      "outputs": [
        {
          "output_type": "stream",
          "name": "stdout",
          "text": [
            "Manojit Mazinder Barua\n"
          ]
        }
      ]
    },
    {
      "cell_type": "code",
      "source": [
        "# 2.Write a code to find the length of the string \"Hello World\".\n",
        "\n",
        "lstr = \"Hello World\"\n",
        "print(len(lstr))"
      ],
      "metadata": {
        "colab": {
          "base_uri": "https://localhost:8080/"
        },
        "id": "bFt7DAayssXo",
        "outputId": "12d20936-a69f-4ede-cb3f-a814ccf45f22"
      },
      "execution_count": 2,
      "outputs": [
        {
          "output_type": "stream",
          "name": "stdout",
          "text": [
            "11\n"
          ]
        }
      ]
    },
    {
      "cell_type": "code",
      "source": [
        "# 3.Write a code to slice the first 3 characters from the string \"Python Programming\".\n",
        "\n",
        "slstr = \"Python Programming\"\n",
        "print(slstr[0:3])"
      ],
      "metadata": {
        "colab": {
          "base_uri": "https://localhost:8080/"
        },
        "id": "qtt7QJJztDeW",
        "outputId": "9bf39365-b10b-4bda-ca2a-d0abbae41be6"
      },
      "execution_count": 3,
      "outputs": [
        {
          "output_type": "stream",
          "name": "stdout",
          "text": [
            "Pyt\n"
          ]
        }
      ]
    },
    {
      "cell_type": "code",
      "source": [
        "# 4.Write a code to convert the string \"hello\" to uppercase.\n",
        "\n",
        "Ustr = \"hello\"\n",
        "print(Ustr.upper())\n"
      ],
      "metadata": {
        "colab": {
          "base_uri": "https://localhost:8080/"
        },
        "id": "FHfBP-_vtWI6",
        "outputId": "8c3aa0e7-91bb-42d6-d916-38a517daf43e"
      },
      "execution_count": 6,
      "outputs": [
        {
          "output_type": "stream",
          "name": "stdout",
          "text": [
            "HELLO\n"
          ]
        }
      ]
    },
    {
      "cell_type": "code",
      "source": [
        "#5. Write a code to replace the word \"apple\" with \"orange\" in the string \"I like apple\".\n",
        "\n",
        "str1 = \"I like apple\"\n",
        "str1.replace(\"apple\",\"orange\")"
      ],
      "metadata": {
        "colab": {
          "base_uri": "https://localhost:8080/",
          "height": 36
        },
        "id": "e1nOJW0Ktk98",
        "outputId": "08914ffb-611d-4710-99eb-eddc4aefe547"
      },
      "execution_count": 7,
      "outputs": [
        {
          "output_type": "execute_result",
          "data": {
            "text/plain": [
              "'I like orange'"
            ],
            "application/vnd.google.colaboratory.intrinsic+json": {
              "type": "string"
            }
          },
          "metadata": {},
          "execution_count": 7
        }
      ]
    },
    {
      "cell_type": "code",
      "source": [
        "#6. Write a code to create a list with numbers 1 to 5 and print it.\n",
        "\n",
        "lst = [1,2,3,4,5]\n",
        "print(lst)"
      ],
      "metadata": {
        "colab": {
          "base_uri": "https://localhost:8080/"
        },
        "id": "azGHvrl1t6_a",
        "outputId": "ccda1285-9202-40d1-855d-460681cfda0d"
      },
      "execution_count": 8,
      "outputs": [
        {
          "output_type": "stream",
          "name": "stdout",
          "text": [
            "[1, 2, 3, 4, 5]\n"
          ]
        }
      ]
    },
    {
      "cell_type": "code",
      "source": [
        "#7.Write a code to append the number 10 to the list [1, 2, 3, 4]\n",
        "\n",
        "lsta = [1,2,3,4]\n",
        "lsta.append(10)\n",
        "print(lsta)"
      ],
      "metadata": {
        "colab": {
          "base_uri": "https://localhost:8080/"
        },
        "id": "0tNNLRaHuD73",
        "outputId": "b8a2dd2b-ca40-48a9-dc7e-c0db2615e203"
      },
      "execution_count": 20,
      "outputs": [
        {
          "output_type": "stream",
          "name": "stdout",
          "text": [
            "[1, 2, 3, 4, 10]\n"
          ]
        }
      ]
    },
    {
      "cell_type": "code",
      "source": [
        "#8. Write a code to remove the number 3 from the list [1, 2, 3, 4, 5].\n",
        "\n",
        "lstr = [1,2,3,4,5]\n",
        "lstr.remove(3)\n",
        "print(lstr)"
      ],
      "metadata": {
        "colab": {
          "base_uri": "https://localhost:8080/"
        },
        "id": "qDo2n0L2uN_L",
        "outputId": "d7ff492d-1938-48f0-838c-b564e6c84495"
      },
      "execution_count": 19,
      "outputs": [
        {
          "output_type": "stream",
          "name": "stdout",
          "text": [
            "[1, 2, 4, 5]\n"
          ]
        }
      ]
    },
    {
      "cell_type": "code",
      "source": [
        "#9. Write a code to access the second element in the list ['a', 'b', 'c', 'd'].\n",
        "\n",
        "lsti = ['a', 'b', 'c', 'd']\n",
        "print(lsti[1])"
      ],
      "metadata": {
        "colab": {
          "base_uri": "https://localhost:8080/"
        },
        "id": "0wJXWtTAuXdb",
        "outputId": "e8682bb2-a877-469a-81b0-c66cc1cd1625"
      },
      "execution_count": 18,
      "outputs": [
        {
          "output_type": "stream",
          "name": "stdout",
          "text": [
            "b\n"
          ]
        }
      ]
    },
    {
      "cell_type": "code",
      "source": [
        "#10. Write a code to reverse the list [10, 20, 30, 40, 50].\n",
        "\n",
        "lst1 = [10, 20, 30, 40, 50]\n",
        "lst1.reverse()\n",
        "print(lst1)"
      ],
      "metadata": {
        "colab": {
          "base_uri": "https://localhost:8080/"
        },
        "id": "Hl6dOv5Nu2lL",
        "outputId": "6a4576ee-78e0-4ea8-e281-304919fa5ec6"
      },
      "execution_count": 17,
      "outputs": [
        {
          "output_type": "stream",
          "name": "stdout",
          "text": [
            "[50, 40, 30, 20, 10]\n"
          ]
        }
      ]
    },
    {
      "cell_type": "code",
      "source": [
        "#11. Write a code to create a tuple with the elements 100, 200, 300 and print it.\n",
        "\n",
        "tpl = (100,200,300)\n",
        "print(tpl)"
      ],
      "metadata": {
        "colab": {
          "base_uri": "https://localhost:8080/"
        },
        "id": "voyKvbvvvAIT",
        "outputId": "2a777abc-f6ed-416c-8e87-530dfb57b4f2"
      },
      "execution_count": 13,
      "outputs": [
        {
          "output_type": "stream",
          "name": "stdout",
          "text": [
            "(100, 200, 300)\n"
          ]
        }
      ]
    },
    {
      "cell_type": "code",
      "source": [
        "#12. Write a code to access the second-to-last element of the tuple ('red', 'green', 'blue', 'yellow').\n",
        "\n",
        "tpl1 = ('red', 'green', 'blue', 'yellow')\n",
        "print(tpl1[-2])"
      ],
      "metadata": {
        "colab": {
          "base_uri": "https://localhost:8080/"
        },
        "id": "EMZGioWJveBw",
        "outputId": "4cde1b26-1075-429b-be09-85cad1f6d46a"
      },
      "execution_count": 16,
      "outputs": [
        {
          "output_type": "stream",
          "name": "stdout",
          "text": [
            "blue\n"
          ]
        }
      ]
    },
    {
      "cell_type": "code",
      "source": [
        "#13. Write a code to find the minimum number in the tuple (10, 20, 5, 15).\n",
        "\n",
        "tpl2 = (10, 20, 5, 15)\n",
        "print(min(tpl2))"
      ],
      "metadata": {
        "colab": {
          "base_uri": "https://localhost:8080/"
        },
        "id": "fj7TiyiJwH6X",
        "outputId": "4976ee2c-5a05-4f74-8065-e03a5f2b8b3c"
      },
      "execution_count": 21,
      "outputs": [
        {
          "output_type": "stream",
          "name": "stdout",
          "text": [
            "5\n"
          ]
        }
      ]
    },
    {
      "cell_type": "code",
      "source": [
        "#14. Write a code to find the index of the element \"cat\" in the tuple ('dog', 'cat', 'rabbit').\n",
        "\n",
        "tpl3 = ('dog', 'cat', 'rabbit')\n",
        "print(tpl3.index('cat'))"
      ],
      "metadata": {
        "colab": {
          "base_uri": "https://localhost:8080/"
        },
        "id": "xrO4yVQHwRzk",
        "outputId": "47a15c96-6b2d-47b1-fdb4-fa6978965393"
      },
      "execution_count": 22,
      "outputs": [
        {
          "output_type": "stream",
          "name": "stdout",
          "text": [
            "1\n"
          ]
        }
      ]
    },
    {
      "cell_type": "code",
      "source": [
        "#15. Write a code to create a tuple containing three different fruits and check if \"kiwi\" is in it.\n",
        "\n",
        "tpl4 = (\"apple\", \"banana\", \"cherry\")\n",
        "print(\"kiwi\" in tpl4)"
      ],
      "metadata": {
        "colab": {
          "base_uri": "https://localhost:8080/"
        },
        "id": "-NgxPlQPwbBW",
        "outputId": "c793eee8-cf8d-4c18-a93f-030134963732"
      },
      "execution_count": 23,
      "outputs": [
        {
          "output_type": "stream",
          "name": "stdout",
          "text": [
            "False\n"
          ]
        }
      ]
    },
    {
      "cell_type": "code",
      "source": [
        "# 16. Write a code to create a set with the elements 'a', 'b', 'c' and print it.\n",
        "\n",
        "st = {'a', 'b', 'c'}\n",
        "print(st)\n"
      ],
      "metadata": {
        "colab": {
          "base_uri": "https://localhost:8080/"
        },
        "id": "y54-GO-_wjOB",
        "outputId": "426f19ac-b4b2-4d9d-bbe1-e5e2ff70bb51"
      },
      "execution_count": 25,
      "outputs": [
        {
          "output_type": "stream",
          "name": "stdout",
          "text": [
            "{'b', 'c', 'a'}\n"
          ]
        }
      ]
    },
    {
      "cell_type": "code",
      "source": [
        "#17. Write a code to clear all elements from the set {1, 2, 3, 4, 5}.\n",
        "\n",
        "st1 = {1, 2, 3, 4, 5}\n",
        "st1.clear()\n",
        "print(st1)"
      ],
      "metadata": {
        "colab": {
          "base_uri": "https://localhost:8080/"
        },
        "id": "UhHUTt72wvz1",
        "outputId": "3fc1f668-a191-48c0-8639-29fd1709be50"
      },
      "execution_count": 26,
      "outputs": [
        {
          "output_type": "stream",
          "name": "stdout",
          "text": [
            "set()\n"
          ]
        }
      ]
    },
    {
      "cell_type": "code",
      "source": [
        "#18. Write a code to remove the element 4 from the set {1, 2, 3, 4}.\n",
        "\n",
        "st2 = {1, 2, 3, 4}\n",
        "st2.remove(4)\n",
        "print(st2)"
      ],
      "metadata": {
        "colab": {
          "base_uri": "https://localhost:8080/"
        },
        "id": "ySxkXvFFw9D7",
        "outputId": "7635e3c4-4817-4d21-e843-b88ef4ca7e33"
      },
      "execution_count": 27,
      "outputs": [
        {
          "output_type": "stream",
          "name": "stdout",
          "text": [
            "{1, 2, 3}\n"
          ]
        }
      ]
    },
    {
      "cell_type": "code",
      "source": [
        "#19. Write a code to find the union of two sets {1, 2, 3} and {3, 4, 5}.\n",
        "\n",
        "set1 = {1, 2, 3}\n",
        "set2 = {3, 4, 5}\n",
        "\n",
        "# Using the union() method\n",
        "\n",
        "union_set = set1.union(set2)\n",
        "print(union_set)\n",
        "\n"
      ],
      "metadata": {
        "colab": {
          "base_uri": "https://localhost:8080/"
        },
        "id": "ms8Lei2ZxEow",
        "outputId": "0e5a8417-27e3-4277-a5f6-b9047622fe4b"
      },
      "execution_count": 28,
      "outputs": [
        {
          "output_type": "stream",
          "name": "stdout",
          "text": [
            "{1, 2, 3, 4, 5}\n"
          ]
        }
      ]
    },
    {
      "cell_type": "code",
      "source": [
        "#20. Write a code to find the intersection of two sets {1, 2, 3} and {2, 3, 4}.\n",
        "\n",
        "set1 = {1, 2, 3}\n",
        "set2 = {2, 3, 4}\n",
        "\n",
        "# Using the intersection() method\n",
        "\n",
        "intersection_set = set1.intersection(set2)\n",
        "print(intersection_set)"
      ],
      "metadata": {
        "colab": {
          "base_uri": "https://localhost:8080/"
        },
        "id": "tYo0N5y9xonx",
        "outputId": "adb3126c-2f82-474d-e5ce-bfa3a5c20fe5"
      },
      "execution_count": 29,
      "outputs": [
        {
          "output_type": "stream",
          "name": "stdout",
          "text": [
            "{2, 3}\n"
          ]
        }
      ]
    },
    {
      "cell_type": "code",
      "source": [
        "#21. Write a code to create a dictionary with the keys \"name\", \"age\", and \"city\", and print it.\n",
        "\n",
        "dict = {\"name\": \"Manojit\", \"age\": 35, \"city\": \"Guwahati\"}\n",
        "print(dict)"
      ],
      "metadata": {
        "colab": {
          "base_uri": "https://localhost:8080/"
        },
        "id": "PRQ2_3wsx4_w",
        "outputId": "cf0b4632-4754-43b3-808d-b22ed77a17e8"
      },
      "execution_count": 31,
      "outputs": [
        {
          "output_type": "stream",
          "name": "stdout",
          "text": [
            "{'name': 'Manojit', 'age': 35, 'city': 'Guwahati'}\n"
          ]
        }
      ]
    },
    {
      "cell_type": "code",
      "source": [
        "#22. Write a code to add a new key-value pair \"country\": \"USA\" to the dictionary {'name': 'John', 'age': 25}.\n",
        "\n",
        "dict1 = {'name': 'John', 'age': 25}\n",
        "dict1[\"country\"] = \"USA\"\n",
        "print(dict1)"
      ],
      "metadata": {
        "colab": {
          "base_uri": "https://localhost:8080/"
        },
        "id": "QzzZ4FxTyGiF",
        "outputId": "e3128035-b0ca-4856-dfd6-857b9a05977e"
      },
      "execution_count": 32,
      "outputs": [
        {
          "output_type": "stream",
          "name": "stdout",
          "text": [
            "{'name': 'John', 'age': 25, 'country': 'USA'}\n"
          ]
        }
      ]
    },
    {
      "cell_type": "code",
      "source": [
        "#23. Write a code to access the value associated with the key \"name\" in the dictionary {'name': 'Alice', 'age': 30}.\n",
        "\n",
        "dict2 = {'name': 'Alice', 'age': 30}\n",
        "print(dict2[\"name\"])"
      ],
      "metadata": {
        "colab": {
          "base_uri": "https://localhost:8080/"
        },
        "id": "XpDwo4B6yZtu",
        "outputId": "3598c3c0-6360-44a7-a8ad-8f0e55f4b4d0"
      },
      "execution_count": 33,
      "outputs": [
        {
          "output_type": "stream",
          "name": "stdout",
          "text": [
            "Alice\n"
          ]
        }
      ]
    },
    {
      "cell_type": "code",
      "source": [
        "#24. Write a code to remove the key \"age\" from the dictionary {'name': 'Bob', 'age': 22, 'city': 'New York'}.\n",
        "\n",
        "dict3 = {'name': 'Bob', 'age': 22, 'city': 'New York'}\n",
        "del dict3[\"age\"]\n",
        "print(dict3)"
      ],
      "metadata": {
        "colab": {
          "base_uri": "https://localhost:8080/"
        },
        "id": "6fbuPhCfyjFh",
        "outputId": "e99656ea-2149-43dc-81f9-23e0685a9593"
      },
      "execution_count": 36,
      "outputs": [
        {
          "output_type": "stream",
          "name": "stdout",
          "text": [
            "{'name': 'Bob', 'city': 'New York'}\n"
          ]
        }
      ]
    },
    {
      "cell_type": "code",
      "source": [
        "#25. Write a code to check if the key \"city\" exists in the dictionary {'name': 'Alice', 'city': 'Paris'}.\n",
        "\n",
        "dict4 = {'name': 'Alice', 'city': 'Paris'}\n",
        "print(\"city\" in dict4)"
      ],
      "metadata": {
        "colab": {
          "base_uri": "https://localhost:8080/"
        },
        "id": "iTb64fHiysCf",
        "outputId": "9209c4a4-f121-4631-ea0d-70202e4ebd40"
      },
      "execution_count": 37,
      "outputs": [
        {
          "output_type": "stream",
          "name": "stdout",
          "text": [
            "True\n"
          ]
        }
      ]
    },
    {
      "cell_type": "code",
      "source": [
        "#26. Write a code to create a list, a tuple, and a dictionary, and print them all.\n",
        "\n",
        "clst = [1,2,3,4]\n",
        "print(clst)\n",
        "\n",
        "ctpl = (1,2,3,4)\n",
        "print(ctpl)\n",
        "\n",
        "cdict = {\"name\": \"Manojit\", \"age\": 35}\n",
        "print(cdict)"
      ],
      "metadata": {
        "colab": {
          "base_uri": "https://localhost:8080/"
        },
        "id": "Es9L5N9azBqa",
        "outputId": "383c540a-e9cf-40b4-d1d4-4519d379f8d3"
      },
      "execution_count": 38,
      "outputs": [
        {
          "output_type": "stream",
          "name": "stdout",
          "text": [
            "[1, 2, 3, 4]\n",
            "(1, 2, 3, 4)\n",
            "{'name': 'Manojit', 'age': 35}\n"
          ]
        }
      ]
    },
    {
      "cell_type": "code",
      "source": [
        "#27. Write a code to create a list of 5 random numbers between 1 and 100, sort it in ascending order, and print the result.(replaced)\n",
        "\n",
        "# Generate a list of 5 random numbers range of 1 and 100\n",
        "\n",
        "numbers = random.sample(range(1, 101), 5)\n",
        "\n",
        "# Sort the list in ascending order\n",
        "\n",
        "numbers.sort()\n",
        "\n",
        "# Print the result\n",
        "\n",
        "print(\"Sorted list:\", numbers)\n"
      ],
      "metadata": {
        "colab": {
          "base_uri": "https://localhost:8080/"
        },
        "id": "egO9MXMkzSC-",
        "outputId": "2dbcd316-ac33-4953-99cf-34e3271f4bc7"
      },
      "execution_count": 44,
      "outputs": [
        {
          "output_type": "stream",
          "name": "stdout",
          "text": [
            "Sorted list: [37, 40, 55, 72, 79]\n"
          ]
        }
      ]
    },
    {
      "cell_type": "code",
      "source": [
        "#28. Write a code to create a list with strings and print the element at the third index.\n",
        "\n",
        "lststr = [\"apple\", \"banana\", \"cherry\", \"date\", \"elderberry\"]\n",
        "print(lststr[2])"
      ],
      "metadata": {
        "colab": {
          "base_uri": "https://localhost:8080/"
        },
        "id": "TRn0tH_e0HEO",
        "outputId": "85accfe1-123f-4393-8d8d-d7c544e872a3"
      },
      "execution_count": 45,
      "outputs": [
        {
          "output_type": "stream",
          "name": "stdout",
          "text": [
            "cherry\n"
          ]
        }
      ]
    },
    {
      "cell_type": "code",
      "source": [
        "#29. Write a code to combine two dictionaries into one and print the result.\n",
        "\n",
        "\n",
        "dicta = {'a': 1, 'b': 2}\n",
        "dictb = {'c': 3, 'd': 4}\n",
        "\n",
        "\n",
        "# Combine dictionaries using the union method and Print the result\n",
        "combined_dict = dicta | dictb\n",
        "print(\"Combined Dictionary:\", combined_dict)\n"
      ],
      "metadata": {
        "colab": {
          "base_uri": "https://localhost:8080/"
        },
        "id": "M--mn5Ss0hH5",
        "outputId": "f6e73046-1afd-4223-ab9f-69c5624f220f"
      },
      "execution_count": 52,
      "outputs": [
        {
          "output_type": "stream",
          "name": "stdout",
          "text": [
            "Combined Dictionary: {'a': 1, 'b': 2, 'c': 3, 'd': 4}\n"
          ]
        }
      ]
    },
    {
      "cell_type": "code",
      "source": [
        "#30. Write a code to convert a list of strings into a set.\n",
        "\n",
        "lsctstr = [\"apple\", \"banana\", \"cherry\", \"date\", \"elderberry\"]\n",
        "print(set(lsctstr))"
      ],
      "metadata": {
        "colab": {
          "base_uri": "https://localhost:8080/"
        },
        "id": "x16AGVRw1yJl",
        "outputId": "f06fccbb-3995-4756-ade2-278a5fabd659"
      },
      "execution_count": 53,
      "outputs": [
        {
          "output_type": "stream",
          "name": "stdout",
          "text": [
            "{'apple', 'elderberry', 'banana', 'date', 'cherry'}\n"
          ]
        }
      ]
    },
    {
      "cell_type": "markdown",
      "source": [
        "----------------------------------------------------**End-**------------------------"
      ],
      "metadata": {
        "id": "NgY6uMbE2F-r"
      }
    }
  ]
}